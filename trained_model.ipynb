{
 "cells": [
  {
   "cell_type": "code",
   "execution_count": 9,
   "id": "2e7ad373",
   "metadata": {},
   "outputs": [],
   "source": [
    "import pandas as pd\n",
    "from sklearn.feature_extraction.text import CountVectorizer\n",
    "from sklearn.model_selection import train_test_split\n",
    "import nltk\n",
    "from nltk.corpus import stopwords\n",
    "import os\n",
    "os.environ[\"SSL_CERT_FILE\"]= \"/Library/Frameworks/Python.framework/Versions/3.11/lib/python3.11/site-packages/certifi/cacert.pem\""
   ]
  },
  {
   "cell_type": "code",
   "execution_count": 10,
   "id": "2ee85282",
   "metadata": {},
   "outputs": [
    {
     "name": "stderr",
     "output_type": "stream",
     "text": [
      "[nltk_data] Downloading package stopwords to\n",
      "[nltk_data]     /Users/yeshaswinikarri/nltk_data...\n",
      "[nltk_data]   Package stopwords is already up-to-date!\n"
     ]
    },
    {
     "data": {
      "text/plain": [
       "True"
      ]
     },
     "execution_count": 10,
     "metadata": {},
     "output_type": "execute_result"
    }
   ],
   "source": [
    "nltk.download('stopwords')"
   ]
  },
  {
   "cell_type": "code",
   "execution_count": 11,
   "id": "c3afbeed",
   "metadata": {},
   "outputs": [],
   "source": [
    "stop_words = set(stopwords.words('english'))"
   ]
  },
  {
   "cell_type": "code",
   "execution_count": 12,
   "id": "3d3fc1ed",
   "metadata": {},
   "outputs": [],
   "source": [
    "data = pd.read_csv('spam_data.csv')"
   ]
  },
  {
   "cell_type": "code",
   "execution_count": 13,
   "id": "3c6f7730",
   "metadata": {},
   "outputs": [],
   "source": [
    "message = data['v2']\n",
    "category = data['v1']"
   ]
  },
  {
   "cell_type": "code",
   "execution_count": 14,
   "id": "50457863",
   "metadata": {},
   "outputs": [],
   "source": [
    "def splitinwords(message):\n",
    "    answer = []\n",
    "    words = message.split()\n",
    "    for word in words:\n",
    "        j = len(word)-1\n",
    "        word = word.lower()\n",
    "        while(j>= 0 and (word[j]==',' or word[j]=='.')):\n",
    "            j = j-1\n",
    "        result = word[0:j+1]\n",
    "        if result not in stop_words:\n",
    "            answer.append(result)\n",
    "    return_answer = ' '.join(answer)\n",
    "    return return_answer      "
   ]
  },
  {
   "cell_type": "code",
   "execution_count": 15,
   "id": "ab02914b",
   "metadata": {
    "scrolled": true
   },
   "outputs": [],
   "source": [
    "X_train = [splitinwords(mess) for mess in message]\n",
    "\n",
    "# Split data into training and testing sets\n",
    "x_train, x_test, y_train, y_test = train_test_split(X_train, category)\n",
    "\n",
    "# Initialize CountVectorizer\n",
    "count_vec = CountVectorizer(max_features = 2000, ngram_range=(1,2), max_df = 0.8)\n",
    "\n",
    "# Convert text data into numerical features\n",
    "x_train_features = count_vec.fit_transform(x_train)\n",
    "x_test_features = count_vec.transform(x_test)"
   ]
  },
  {
   "cell_type": "code",
   "execution_count": 16,
   "id": "e1d4b109",
   "metadata": {},
   "outputs": [
    {
     "name": "stdout",
     "output_type": "stream",
     "text": [
      "0.9798994974874372\n",
      "[[1190    1]\n",
      " [  27  175]]\n"
     ]
    }
   ],
   "source": [
    "from sklearn.metrics import confusion_matrix\n",
    "from sklearn.linear_model import LogisticRegression\n",
    "\n",
    "model = LogisticRegression()\n",
    "model.fit(x_train_features, y_train)\n",
    "print(model.score(x_test_features, y_test))\n",
    "y_pred = model.predict(x_test_features)\n",
    "print(confusion_matrix(y_test, y_pred))"
   ]
  },
  {
   "cell_type": "code",
   "execution_count": 17,
   "id": "dcf73bca",
   "metadata": {},
   "outputs": [],
   "source": [
    "import pickle\n",
    "with open('model.pkl', 'wb') as file:\n",
    "    pickle.dump({'count_vec': count_vec, 'logistic_model': model}, file)"
   ]
  },
  {
   "cell_type": "code",
   "execution_count": null,
   "id": "e2beb005",
   "metadata": {},
   "outputs": [],
   "source": []
  }
 ],
 "metadata": {
  "kernelspec": {
   "display_name": "Python 3 (ipykernel)",
   "language": "python",
   "name": "python3"
  },
  "language_info": {
   "codemirror_mode": {
    "name": "ipython",
    "version": 3
   },
   "file_extension": ".py",
   "mimetype": "text/x-python",
   "name": "python",
   "nbconvert_exporter": "python",
   "pygments_lexer": "ipython3",
   "version": "3.11.1"
  }
 },
 "nbformat": 4,
 "nbformat_minor": 5
}
